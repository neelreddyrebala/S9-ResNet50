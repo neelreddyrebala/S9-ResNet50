{
  "nbformat": 4,
  "nbformat_minor": 0,
  "metadata": {
    "colab": {
      "provenance": [],
      "gpuType": "T4",
      "authorship_tag": "ABX9TyM+3qC/3ShAYdS7AbPQ+95o"
    },
    "kernelspec": {
      "name": "python3",
      "display_name": "Python 3"
    },
    "language_info": {
      "name": "python"
    },
    "accelerator": "GPU"
  },
  "cells": [
    {
      "cell_type": "markdown",
      "source": [
        "# ERA V4 – Session 9: Sanity Test (Imagenette)\n",
        "This Colab notebook verifies the training pipeline for ResNet models using timm.\n",
        "- Dataset: Imagenette 320px\n",
        "- Model: ResNet18 (1 epoch)\n",
        "- Environment: CUDA GPU (Colab)\n"
      ],
      "metadata": {
        "id": "cvMg7krfxmjO"
      }
    },
    {
      "cell_type": "code",
      "source": [
        "!pip -q install timm==1.* wandb==0.* pandas matplotlib\n",
        "!wget -q https://s3.amazonaws.com/fast-ai-imageclas/imagenette2-320.tgz\n",
        "!tar -xzf imagenette2-320.tgz\n",
        "!ls /content/imagenette2-320/train | head\n"
      ],
      "metadata": {
        "colab": {
          "base_uri": "https://localhost:8080/"
        },
        "id": "s9c_LrqIvYv6",
        "outputId": "a6079d5e-55b0-48dc-829e-6e41119bf6f1"
      },
      "execution_count": 1,
      "outputs": [
        {
          "output_type": "stream",
          "name": "stdout",
          "text": [
            "n01440764\n",
            "n02102040\n",
            "n02979186\n",
            "n03000684\n",
            "n03028079\n",
            "n03394916\n",
            "n03417042\n",
            "n03425413\n",
            "n03445777\n",
            "n03888257\n"
          ]
        }
      ]
    },
    {
      "cell_type": "code",
      "source": [
        "!mkdir -p /content/runs\n",
        "!rm -rf timm_src\n",
        "!git clone -q https://github.com/huggingface/pytorch-image-models.git timm_src\n",
        "%cd timm_src\n",
        "\n",
        "!python train.py \\\n",
        "  --data-dir /content/imagenette2-320 \\\n",
        "  --train-split train --val-split val \\\n",
        "  --model resnet18 --epochs 1 --batch-size 64 \\\n",
        "  --opt sgd --momentum 0.9 --weight-decay 1e-4 \\\n",
        "  --sched cosine --warmup-epochs 0 --lr 0.01 \\\n",
        "  --amp --channels-last --pin-mem --workers 2 \\\n",
        "  --output /content/runs --experiment sanity_run \\\n",
        "  --checkpoint-hist 1 --save-images --log-interval 10 \\\n",
        "  | tee /content/runs/sanity_log.txt\n"
      ],
      "metadata": {
        "colab": {
          "base_uri": "https://localhost:8080/"
        },
        "id": "FY4KrNkLv9fV",
        "outputId": "5bf351c1-d1cc-45f0-d9be-2e8b30b17387"
      },
      "execution_count": 2,
      "outputs": [
        {
          "output_type": "stream",
          "name": "stdout",
          "text": [
            "/content/timm_src\n",
            "Training with a single process on 1 device (cuda).\n",
            "Model resnet18 created, param count:11689512\n",
            "Data processing configuration for current model + dataset:\n",
            "\tinput_size: (3, 224, 224)\n",
            "\tinterpolation: bicubic\n",
            "\tmean: (0.485, 0.456, 0.406)\n",
            "\tstd: (0.229, 0.224, 0.225)\n",
            "\tcrop_pct: 0.95\n",
            "\tcrop_mode: center\n",
            "Created SGD (sgd) optimizer: lr: 0.01, momentum: 0.9, dampening: 0, weight_decay: 0.0001, nesterov: True, maximize: False, foreach: None, differentiable: False, fused: None\n",
            "Using native Torch AMP. Training in mixed precision.\n",
            "Scheduled epochs: 1 (epochs + cooldown_epochs). Warmup within epochs when warmup_prefix=False. LR stepped per epoch.\n",
            "Train: 0 [   0/147 (  1%)]  Loss: 7.02 (7.02)  Time: 7.777s,    8.23/s  (7.777s,    8.23/s)  LR: 1.000e-02  Data: 0.838 (0.838)\n",
            "Train: 0 [  10/147 (  7%)]  Loss: 4.28 (5.81)  Time: 0.153s,  418.46/s  (0.884s,   72.36/s)  LR: 1.000e-02  Data: 0.096 (0.181)\n",
            "Train: 0 [  20/147 ( 14%)]  Loss: 2.93 (4.62)  Time: 0.211s,  303.86/s  (0.591s,  108.26/s)  LR: 1.000e-02  Data: 0.151 (0.177)\n",
            "Train: 0 [  30/147 ( 21%)]  Loss: 2.96 (4.10)  Time: 0.111s,  578.32/s  (0.520s,  123.03/s)  LR: 1.000e-02  Data: 0.028 (0.200)\n",
            "Train: 0 [  40/147 ( 28%)]  Loss: 2.94 (3.82)  Time: 0.112s,  571.56/s  (0.462s,  138.43/s)  LR: 1.000e-02  Data: 0.057 (0.193)\n",
            "Train: 0 [  50/147 ( 35%)]  Loss: 2.94 (3.65)  Time: 0.103s,  624.06/s  (0.424s,  150.99/s)  LR: 1.000e-02  Data: 0.047 (0.188)\n",
            "Train: 0 [  60/147 ( 41%)]  Loss: 2.87 (3.52)  Time: 0.070s,  913.40/s  (0.398s,  160.69/s)  LR: 1.000e-02  Data: 0.013 (0.187)\n",
            "Train: 0 [  70/147 ( 48%)]  Loss: 2.76 (3.42)  Time: 0.200s,  320.27/s  (0.383s,  167.23/s)  LR: 1.000e-02  Data: 0.147 (0.188)\n",
            "Train: 0 [  80/147 ( 55%)]  Loss: 2.76 (3.34)  Time: 0.388s,  164.78/s  (0.384s,  166.59/s)  LR: 1.000e-02  Data: 0.318 (0.200)\n",
            "Train: 0 [  90/147 ( 62%)]  Loss: 2.86 (3.28)  Time: 0.437s,  146.47/s  (0.373s,  171.62/s)  LR: 1.000e-02  Data: 0.384 (0.199)\n",
            "Train: 0 [ 100/147 ( 69%)]  Loss: 2.80 (3.23)  Time: 0.455s,  140.65/s  (0.363s,  176.27/s)  LR: 1.000e-02  Data: 0.400 (0.198)\n",
            "Train: 0 [ 110/147 ( 76%)]  Loss: 2.85 (3.19)  Time: 0.422s,  151.65/s  (0.354s,  180.58/s)  LR: 1.000e-02  Data: 0.366 (0.197)\n",
            "Train: 0 [ 120/147 ( 82%)]  Loss: 2.85 (3.15)  Time: 0.746s,   85.79/s  (0.358s,  179.00/s)  LR: 1.000e-02  Data: 0.681 (0.206)\n",
            "Train: 0 [ 130/147 ( 89%)]  Loss: 2.80 (3.12)  Time: 0.473s,  135.30/s  (0.350s,  182.91/s)  LR: 1.000e-02  Data: 0.421 (0.204)\n",
            "Train: 0 [ 140/147 ( 96%)]  Loss: 2.49 (3.09)  Time: 0.466s,  137.34/s  (0.345s,  185.68/s)  LR: 1.000e-02  Data: 0.413 (0.203)\n",
            "Test: [   0/61]  Time: 0.804 (0.804)  Loss:   1.879 ( 1.879)  Acc@1:  46.875 ( 46.875)  Acc@5:  93.750 ( 93.750)\n",
            "Test: [  10/61]  Time: 0.034 (0.274)  Loss:   2.911 ( 2.397)  Acc@1:   0.000 ( 20.455)  Acc@5:  39.062 ( 66.193)\n",
            "Test: [  20/61]  Time: 0.033 (0.304)  Loss:   2.455 ( 2.389)  Acc@1:   1.562 ( 13.244)  Acc@5:  73.438 ( 68.973)\n",
            "Test: [  30/61]  Time: 0.034 (0.287)  Loss:   2.002 ( 2.150)  Acc@1:  14.062 ( 25.454)  Acc@5:  85.938 ( 76.058)\n",
            "Test: [  40/61]  Time: 0.033 (0.271)  Loss:   1.537 ( 2.077)  Acc@1:  53.125 ( 26.372)  Acc@5: 100.000 ( 79.345)\n",
            "Test: [  50/61]  Time: 0.032 (0.263)  Loss:   2.142 ( 2.059)  Acc@1:  21.875 ( 24.786)  Acc@5:  75.000 ( 81.281)\n",
            "Test: [  60/61]  Time: 0.031 (0.252)  Loss:   1.214 ( 1.981)  Acc@1:  70.312 ( 29.816)  Acc@5:  89.062 ( 81.839)\n",
            "Test: [  61/61]  Time: 0.206 (0.251)  Loss:   1.382 ( 1.978)  Acc@1:  76.190 ( 30.064)  Acc@5:  80.952 ( 81.834)\n",
            "Current checkpoints:\n",
            " ('/content/runs/sanity_run/checkpoint-0.pth.tar', 30.063694263628335)\n",
            "\n",
            "*** Best metric: 30.063694263628335 (epoch 0)\n",
            "--result\n",
            "[\n",
            "    {\n",
            "        \"epoch\": 0,\n",
            "        \"train\": {\n",
            "            \"loss\": 3.0787709991948136\n",
            "        },\n",
            "        \"validation\": {\n",
            "            \"loss\": 1.977895087709852,\n",
            "            \"top1\": 30.063694263628335,\n",
            "            \"top5\": 81.83439492584034\n",
            "        }\n",
            "    }\n",
            "]\n"
          ]
        }
      ]
    },
    {
      "cell_type": "code",
      "source": [
        "import glob, os\n",
        "print(\"✅ Checkpoints:\", glob.glob(\"/content/runs/sanity_run/*.pth.tar\"))\n",
        "!tail -n 20 /content/runs/sanity_log.txt\n"
      ],
      "metadata": {
        "colab": {
          "base_uri": "https://localhost:8080/"
        },
        "id": "LnvAZeRSxLBI",
        "outputId": "473515d6-45e6-4fc5-891c-36c411066ca4"
      },
      "execution_count": 3,
      "outputs": [
        {
          "output_type": "stream",
          "name": "stdout",
          "text": [
            "✅ Checkpoints: ['/content/runs/sanity_run/checkpoint-0.pth.tar', '/content/runs/sanity_run/model_best.pth.tar', '/content/runs/sanity_run/last.pth.tar']\n",
            "--result\n",
            "[\n",
            "    {\n",
            "        \"epoch\": 0,\n",
            "        \"train\": {\n",
            "            \"loss\": 3.0787709991948136\n",
            "        },\n",
            "        \"validation\": {\n",
            "            \"loss\": 1.977895087709852,\n",
            "            \"top1\": 30.063694263628335,\n",
            "            \"top5\": 81.83439492584034\n",
            "        }\n",
            "    }\n",
            "]\n"
          ]
        }
      ]
    }
  ]
}